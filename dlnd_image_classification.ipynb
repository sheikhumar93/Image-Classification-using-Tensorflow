{
 "cells": [
  {
   "cell_type": "markdown",
   "metadata": {
    "collapsed": true
   },
   "source": [
    "# Image Classification\n",
    "In this project, you'll classify images from the [CIFAR-10 dataset](https://www.cs.toronto.edu/~kriz/cifar.html).  The dataset consists of airplanes, dogs, cats, and other objects. You'll preprocess the images, then train a convolutional neural network on all the samples. The images need to be normalized and the labels need to be one-hot encoded.  You'll get to apply what you learned and build a convolutional, max pooling, dropout, and fully connected layers.  At the end, you'll get to see your neural network's predictions on the sample images.\n",
    "## Get the Data\n",
    "Run the following cell to download the [CIFAR-10 dataset for python](https://www.cs.toronto.edu/~kriz/cifar-10-python.tar.gz)."
   ]
  },
  {
   "cell_type": "code",
   "execution_count": 1,
   "metadata": {
    "collapsed": false
   },
   "outputs": [
    {
     "name": "stderr",
     "output_type": "stream",
     "text": [
      "CIFAR-10 Dataset: 171MB [04:32, 625KB/s]                                                                               \n"
     ]
    },
    {
     "name": "stdout",
     "output_type": "stream",
     "text": [
      "All files found!\n"
     ]
    }
   ],
   "source": [
    "\"\"\"\n",
    "DON'T MODIFY ANYTHING IN THIS CELL THAT IS BELOW THIS LINE\n",
    "\"\"\"\n",
    "from urllib.request import urlretrieve\n",
    "from os.path import isfile, isdir\n",
    "from tqdm import tqdm\n",
    "import problem_unittests as tests\n",
    "import tarfile\n",
    "\n",
    "cifar10_dataset_folder_path = 'cifar-10-batches-py'\n",
    "\n",
    "class DLProgress(tqdm):\n",
    "    last_block = 0\n",
    "\n",
    "    def hook(self, block_num=1, block_size=1, total_size=None):\n",
    "        self.total = total_size\n",
    "        self.update((block_num - self.last_block) * block_size)\n",
    "        self.last_block = block_num\n",
    "\n",
    "if not isfile('cifar-10-python.tar.gz'):\n",
    "    with DLProgress(unit='B', unit_scale=True, miniters=1, desc='CIFAR-10 Dataset') as pbar:\n",
    "        urlretrieve(\n",
    "            'https://www.cs.toronto.edu/~kriz/cifar-10-python.tar.gz',\n",
    "            'cifar-10-python.tar.gz',\n",
    "            pbar.hook)\n",
    "\n",
    "if not isdir(cifar10_dataset_folder_path):\n",
    "    with tarfile.open('cifar-10-python.tar.gz') as tar:\n",
    "        tar.extractall()\n",
    "        tar.close()\n",
    "\n",
    "\n",
    "tests.test_folder_path(cifar10_dataset_folder_path)"
   ]
  },
  {
   "cell_type": "markdown",
   "metadata": {},
   "source": [
    "## Explore the Data\n",
    "The dataset is broken into batches to prevent your machine from running out of memory.  The CIFAR-10 dataset consists of 5 batches, named `data_batch_1`, `data_batch_2`, etc.. Each batch contains the labels and images that are one of the following:\n",
    "* airplane\n",
    "* automobile\n",
    "* bird\n",
    "* cat\n",
    "* deer\n",
    "* dog\n",
    "* frog\n",
    "* horse\n",
    "* ship\n",
    "* truck\n",
    "\n",
    "Understanding a dataset is part of making predictions on the data.  Play around with the code cell below by changing the `batch_id` and `sample_id`. The `batch_id` is the id for a batch (1-5). The `sample_id` is the id for a image and label pair in the batch.\n",
    "\n",
    "Ask yourself \"What are all possible labels?\", \"What is the range of values for the image data?\", \"Are the labels in order or random?\".  Answers to questions like these will help you preprocess the data and end up with better predictions."
   ]
  },
  {
   "cell_type": "code",
   "execution_count": 3,
   "metadata": {
    "collapsed": false
   },
   "outputs": [
    {
     "name": "stdout",
     "output_type": "stream",
     "text": [
      "\n",
      "Stats of batch 2:\n",
      "Samples: 10000\n",
      "Label Counts: {0: 984, 1: 1007, 2: 1010, 3: 995, 4: 1010, 5: 988, 6: 1008, 7: 1026, 8: 987, 9: 985}\n",
      "First 20 Labels: [1, 6, 6, 8, 8, 3, 4, 6, 0, 6, 0, 3, 6, 6, 5, 4, 8, 3, 2, 6]\n",
      "\n",
      "Example of Image 7:\n",
      "Image - Min Value: 4 Max Value: 226\n",
      "Image - Shape: (32, 32, 3)\n",
      "Label - Label Id: 6 Name: frog\n"
     ]
    },
    {
     "data": {
      "image/png": "[encoded data removed]",
      "text/plain": [
       "<matplotlib.figure.Figure at 0x2b95179b198>"
      ]
     },
     "metadata": {
      "image/png": {
       "height": 250,
       "width": 253
      }
     },
     "output_type": "display_data"
    }
   ],
   "source": [
    "%matplotlib inline\n",
    "%config InlineBackend.figure_format = 'retina'\n",
    "\n",
    "import helper\n",
    "import numpy as np\n",
    "\n",
    "# Explore the dataset\n",
    "batch_id = 2\n",
    "sample_id = 7\n",
    "helper.display_stats(cifar10_dataset_folder_path, batch_id, sample_id)"
   ]
  },
  {
   "cell_type": "markdown",
   "metadata": {},
   "source": [
    "## Implement Preprocess Functions\n",
    "### Normalize\n",
    "In the cell below, implement the `normalize` function to take in image data, `x`, and return it as a normalized Numpy array. The values should be in the range of 0 to 1, inclusive.  The return object should be the same shape as `x`."
   ]
  },
  {
   "cell_type": "code",
   "execution_count": 4,
   "metadata": {
    "collapsed": false
   },
   "outputs": [
    {
     "name": "stdout",
     "output_type": "stream",
     "text": [
      "Tests Passed\n"
     ]
    }
   ],
   "source": [
    "def normalize(x):\n",
    "    \"\"\"\n",
    "    Normalize a list of sample image data in the range of 0 to 1\n",
    "    : x: List of image data.  The image shape is (32, 32, 3)\n",
    "    : return: Numpy array of normalize data\n",
    "    \"\"\"\n",
    "    # TODO: Implement Function\n",
    "    return np.array((x)/(255))\n",
    "\n",
    "\n",
    "\"\"\"\n",
    "DON'T MODIFY ANYTHING IN THIS CELL THAT IS BELOW THIS LINE\n",
    "\"\"\"\n",
    "tests.test_normalize(normalize)"
   ]
  },
  {
   "cell_type": "markdown",
   "metadata": {},
   "source": [
    "### One-hot encode\n",
    "Just like the previous code cell, you'll be implementing a function for preprocessing.  This time, you'll implement the `one_hot_encode` function. The input, `x`, are a list of labels.  Implement the function to return the list of labels as One-Hot encoded Numpy array.  The possible values for labels are 0 to 9. The one-hot encoding function should return the same encoding for each value between each call to `one_hot_encode`.  Make sure to save the map of encodings outside the function.\n",
    "\n",
    "Hint: Don't reinvent the wheel."
   ]
  },
  {
   "cell_type": "code",
   "execution_count": 5,
   "metadata": {
    "collapsed": false
   },
   "outputs": [
    {
     "name": "stdout",
     "output_type": "stream",
     "text": [
      "Tests Passed\n"
     ]
    }
   ],
   "source": [
    "from sklearn import preprocessing\n",
    "def one_hot_encode(x):\n",
    "    \"\"\"\n",
    "    One hot encode a list of sample labels. Return a one-hot encoded vector for each label.\n",
    "    : x: List of sample Labels\n",
    "    : return: Numpy array of one-hot encoded labels\n",
    "    \"\"\"\n",
    "    # TODO: Implement Function\n",
    "    lb = preprocessing.LabelBinarizer()\n",
    "    lb.fit(x)\n",
    "    lb.classes_ = list(range(10)) #We know that there are 10 labels\n",
    "    return np.array(lb.transform(x))\n",
    "\n",
    "\n",
    "\"\"\"\n",
    "DON'T MODIFY ANYTHING IN THIS CELL THAT IS BELOW THIS LINE\n",
    "\"\"\"\n",
    "tests.test_one_hot_encode(one_hot_encode)"
   ]
  },
  {
   "cell_type": "markdown",
   "metadata": {},
   "source": [
    "### Randomize Data\n",
    "As you saw from exploring the data above, the order of the samples are randomized.  It doesn't hurt to randomize it again, but you don't need to for this dataset."
   ]
  },
  {
   "cell_type": "markdown",
   "metadata": {},
   "source": [
    "## Preprocess all the data and save it\n",
    "Running the code cell below will preprocess all the CIFAR-10 data and save it to file. The code below also uses 10% of the training data for validation."
   ]
  },
  {
   "cell_type": "code",
   "execution_count": 6,
   "metadata": {
    "collapsed": false
   },
   "outputs": [],
   "source": [
    "\"\"\"\n",
    "DON'T MODIFY ANYTHING IN THIS CELL\n",
    "\"\"\"\n",
    "# Preprocess Training, Validation, and Testing Data\n",
    "helper.preprocess_and_save_data(cifar10_dataset_folder_path, normalize, one_hot_encode)"
   ]
  },
  {
   "cell_type": "markdown",
   "metadata": {},
   "source": [
    "# Check Point\n",
    "This is your first checkpoint.  If you ever decide to come back to this notebook or have to restart the notebook, you can start from here.  The preprocessed data has been saved to disk."
   ]
  },
  {
   "cell_type": "code",
   "execution_count": 2,
   "metadata": {
    "collapsed": true
   },
   "outputs": [],
   "source": [
    "\"\"\"\n",
    "DON'T MODIFY ANYTHING IN THIS CELL\n",
    "\"\"\"\n",
    "import pickle\n",
    "import problem_unittests as tests\n",
    "import helper\n",
    "\n",
    "# Load the Preprocessed Validation data\n",
    "valid_features, valid_labels = pickle.load(open('preprocess_validation.p', mode='rb'))"
   ]
  },
  {
   "cell_type": "markdown",
   "metadata": {},
   "source": [
    "## Build the network\n",
    "For the neural network, you'll build each layer into a function.  Most of the code you've seen has been outside of functions. To test your code more thoroughly, we require that you put each layer in a function.  This allows us to give you better feedback and test for simple mistakes using our unittests before you submit your project.\n",
    "\n",
    ">**Note:** If you're finding it hard to dedicate enough time for this course each week, we've provided a small shortcut to this part of the project. In the next couple of problems, you'll have the option to use classes from the [TensorFlow Layers](https://www.tensorflow.org/api_docs/python/tf/layers) or [TensorFlow Layers (contrib)](https://www.tensorflow.org/api_guides/python/contrib.layers) packages to build each layer, except the layers you build in the \"Convolutional and Max Pooling Layer\" section.  TF Layers is similar to Keras's and TFLearn's abstraction to layers, so it's easy to pickup.\n",
    "\n",
    ">However, if you would like to get the most out of this course, try to solve all the problems _without_ using anything from the TF Layers packages. You **can** still use classes from other packages that happen to have the same name as ones you find in TF Layers! For example, instead of using the TF Layers version of the `conv2d` class, [tf.layers.conv2d](https://www.tensorflow.org/api_docs/python/tf/layers/conv2d), you would want to use the TF Neural Network version of `conv2d`, [tf.nn.conv2d](https://www.tensorflow.org/api_docs/python/tf/nn/conv2d). \n",
    "\n",
    "Let's begin!\n",
    "\n",
    "### Input\n",
    "The neural network needs to read the image data, one-hot encoded labels, and dropout keep probability. Implement the following functions\n",
    "* Implement `neural_net_image_input`\n",
    " * Return a [TF Placeholder](https://www.tensorflow.org/api_docs/python/tf/placeholder)\n",
    " * Set the shape using `image_shape` with batch size set to `None`.\n",
    " * Name the TensorFlow placeholder \"x\" using the TensorFlow `name` parameter in the [TF Placeholder](https://www.tensorflow.org/api_docs/python/tf/placeholder).\n",
    "* Implement `neural_net_label_input`\n",
    " * Return a [TF Placeholder](https://www.tensorflow.org/api_docs/python/tf/placeholder)\n",
    " * Set the shape using `n_classes` with batch size set to `None`.\n",
    " * Name the TensorFlow placeholder \"y\" using the TensorFlow `name` parameter in the [TF Placeholder](https://www.tensorflow.org/api_docs/python/tf/placeholder).\n",
    "* Implement `neural_net_keep_prob_input`\n",
    " * Return a [TF Placeholder](https://www.tensorflow.org/api_docs/python/tf/placeholder) for dropout keep probability.\n",
    " * Name the TensorFlow placeholder \"keep_prob\" using the TensorFlow `name` parameter in the [TF Placeholder](https://www.tensorflow.org/api_docs/python/tf/placeholder).\n",
    "\n",
    "These names will be used at the end of the project to load your saved model.\n",
    "\n",
    "Note: `None` for shapes in TensorFlow allow for a dynamic size."
   ]
  },
  {
   "cell_type": "code",
   "execution_count": 3,
   "metadata": {
    "collapsed": false
   },
   "outputs": [
    {
     "name": "stdout",
     "output_type": "stream",
     "text": [
      "Image Input Tests Passed.\n",
      "Label Input Tests Passed.\n",
      "Keep Prob Tests Passed.\n"
     ]
    }
   ],
   "source": [
    "import tensorflow as tf\n",
    "\n",
    "def neural_net_image_input(image_shape):\n",
    "    \"\"\"\n",
    "    Return a Tensor for a batch of image input\n",
    "    : image_shape: Shape of the images\n",
    "    : return: Tensor for image input.\n",
    "    \"\"\"\n",
    "    # TODO: Implement Function\n",
    "    return tf.placeholder(tf.float32, [None, *image_shape], \"x\") # * unpacks the tuple\n",
    "\n",
    "\n",
    "def neural_net_label_input(n_classes):\n",
    "    \"\"\"\n",
    "    Return a Tensor for a batch of label input\n",
    "    : n_classes: Number of classes\n",
    "    : return: Tensor for label input.\n",
    "    \"\"\"\n",
    "    # TODO: Implement Function\n",
    "    return tf.placeholder(tf.float32, [None, n_classes], \"y\")\n",
    "\n",
    "\n",
    "def neural_net_keep_prob_input():\n",
    "    \"\"\"\n",
    "    Return a Tensor for keep probability\n",
    "    : return: Tensor for keep probability.\n",
    "    \"\"\"\n",
    "    # TODO: Implement Function\n",
    "    return tf.placeholder(tf.float32, name = \"keep_prob\")\n",
    "\n",
    "\n",
    "\"\"\"\n",
    "DON'T MODIFY ANYTHING IN THIS CELL THAT IS BELOW THIS LINE\n",
    "\"\"\"\n",
    "tf.reset_default_graph()\n",
    "tests.test_nn_image_inputs(neural_net_image_input)\n",
    "tests.test_nn_label_inputs(neural_net_label_input)\n",
    "tests.test_nn_keep_prob_inputs(neural_net_keep_prob_input)"
   ]
  },
  {
   "cell_type": "markdown",
   "metadata": {},
   "source": [
    "### Convolution and Max Pooling Layer\n",
    "Convolution layers have a lot of success with images. For this code cell, you should implement the function `conv2d_maxpool` to apply convolution then max pooling:\n",
    "* Create the weight and bias using `conv_ksize`, `conv_num_outputs` and the shape of `x_tensor`.\n",
    "* Apply a convolution to `x_tensor` using weight and `conv_strides`.\n",
    " * We recommend you use same padding, but you're welcome to use any padding.\n",
    "* Add bias\n",
    "* Add a nonlinear activation to the convolution.\n",
    "* Apply Max Pooling using `pool_ksize` and `pool_strides`.\n",
    " * We recommend you use same padding, but you're welcome to use any padding.\n",
    "\n",
    "**Note:** You **can't** use [TensorFlow Layers](https://www.tensorflow.org/api_docs/python/tf/layers) or [TensorFlow Layers (contrib)](https://www.tensorflow.org/api_guides/python/contrib.layers) for **this** layer, but you can still use TensorFlow's [Neural Network](https://www.tensorflow.org/api_docs/python/tf/nn) package. You may still use the shortcut option for all the **other** layers."
   ]
  },
  {
   "cell_type": "code",
   "execution_count": 15,
   "metadata": {
    "collapsed": false
   },
   "outputs": [
    {
     "name": "stdout",
     "output_type": "stream",
     "text": [
      "Tests Passed\n"
     ]
    }
   ],
   "source": [
    "def conv2d_maxpool(x_tensor, conv_num_outputs, conv_ksize, conv_strides, pool_ksize, pool_strides):\n",
    "    \"\"\"\n",
    "    Apply convolution then max pooling to x_tensor\n",
    "    :param x_tensor: TensorFlow Tensor\n",
    "    :param conv_num_outputs: Number of outputs for the convolutional layer\n",
    "    :param conv_ksize: kernal size 2-D Tuple for the convolutional layer\n",
    "    :param conv_strides: Stride 2-D Tuple for convolution\n",
    "    :param pool_ksize: kernal size 2-D Tuple for pool\n",
    "    :param pool_strides: Stride 2-D Tuple for pool\n",
    "    : return: A tensor that represents convolution and max pooling of x_tensor\n",
    "    \"\"\"\n",
    "    # TODO: Implement Function\n",
    "    weight = tf.Variable(tf.truncated_normal([*conv_ksize, x_tensor.get_shape().as_list()[3], conv_num_outputs], mean = 0.0, stddev=0.05, dtype=tf.float32))\n",
    "    bias = tf.Variable(tf.constant(0, shape=[conv_num_outputs], dtype=tf.float32))\n",
    "    conv_layer = tf.nn.conv2d(x_tensor, weight, strides=[1,*conv_strides,1], padding='SAME')\n",
    "    conv_layer += bias\n",
    "    conv_layer = tf.nn.relu(conv_layer)\n",
    "    conv_layer = tf.nn.max_pool(conv_layer, [1,*pool_ksize,1], strides=[1,*pool_strides,1], padding='SAME')\n",
    "    return conv_layer\n",
    "\n",
    "\n",
    "\"\"\"\n",
    "DON'T MODIFY ANYTHING IN THIS CELL THAT IS BELOW THIS LINE\n",
    "\"\"\"\n",
    "tests.test_con_pool(conv2d_maxpool)"
   ]
  },
  {
   "cell_type": "markdown",
   "metadata": {},
   "source": [
    "## Flatten Layer\n",
    "Implement the `flatten` function to change the dimension of `x_tensor` from a 4-D tensor to a 2-D tensor.  The output should be the shape (*Batch Size*, *Flattened Image Size*). Shortcut option: you can use classes from the [TensorFlow Layers](https://www.tensorflow.org/api_docs/python/tf/layers) or [TensorFlow Layers (contrib)](https://www.tensorflow.org/api_guides/python/contrib.layers) packages for this layer. For more of a challenge, only use other TensorFlow packages."
   ]
  },
  {
   "cell_type": "code",
   "execution_count": 17,
   "metadata": {
    "collapsed": false
   },
   "outputs": [
    {
     "name": "stdout",
     "output_type": "stream",
     "text": [
      "Tests Passed\n"
     ]
    }
   ],
   "source": [
    "def flatten(x_tensor):\n",
    "    \"\"\"\n",
    "    Flatten x_tensor to (Batch Size, Flattened Image Size)\n",
    "    : x_tensor: A tensor of size (Batch Size, ...), where ... are the image dimensions.\n",
    "    : return: A tensor of size (Batch Size, Flattened Image Size).\n",
    "    \"\"\"\n",
    "    # TODO: Implement Function\n",
    "    return tf.contrib.layers.flatten(x_tensor)\n",
    "\n",
    "\n",
    "\"\"\"\n",
    "DON'T MODIFY ANYTHING IN THIS CELL THAT IS BELOW THIS LINE\n",
    "\"\"\"\n",
    "tests.test_flatten(flatten)"
   ]
  },
  {
   "cell_type": "markdown",
   "metadata": {},
   "source": [
    "### Fully-Connected Layer\n",
    "Implement the `fully_conn` function to apply a fully connected layer to `x_tensor` with the shape (*Batch Size*, *num_outputs*). Shortcut option: you can use classes from the [TensorFlow Layers](https://www.tensorflow.org/api_docs/python/tf/layers) or [TensorFlow Layers (contrib)](https://www.tensorflow.org/api_guides/python/contrib.layers) packages for this layer. For more of a challenge, only use other TensorFlow packages."
   ]
  },
  {
   "cell_type": "code",
   "execution_count": 18,
   "metadata": {
    "collapsed": false
   },
   "outputs": [
    {
     "name": "stdout",
     "output_type": "stream",
     "text": [
      "Tests Passed\n"
     ]
    }
   ],
   "source": [
    "def fully_conn(x_tensor, num_outputs):\n",
    "    \"\"\"\n",
    "    Apply a fully connected layer to x_tensor using weight and bias\n",
    "    : x_tensor: A 2-D tensor where the first dimension is batch size.\n",
    "    : num_outputs: The number of output that the new tensor should be.\n",
    "    : return: A 2-D tensor where the second dimension is num_outputs.\n",
    "    \"\"\"\n",
    "    # TODO: Implement Function\n",
    "    weight = tf.Variable(tf.truncated_normal([x_tensor.get_shape().as_list()[1], num_outputs], mean = 0, stddev = 0.04, dtype=tf.float32))\n",
    "    bias = tf.Variable(tf.zeros(num_outputs), dtype = tf.float32)\n",
    "    fully_conn_layer = tf.add(tf.matmul(x_tensor, weight), bias)\n",
    "    fully_conn_layer = tf.nn.relu(fully_conn_layer)\n",
    "    return fully_conn_layer\n",
    "\n",
    "\n",
    "\"\"\"\n",
    "DON'T MODIFY ANYTHING IN THIS CELL THAT IS BELOW THIS LINE\n",
    "\"\"\"\n",
    "tests.test_fully_conn(fully_conn)"
   ]
  },
  {
   "cell_type": "markdown",
   "metadata": {},
   "source": [
    "### Output Layer\n",
    "Implement the `output` function to apply a fully connected layer to `x_tensor` with the shape (*Batch Size*, *num_outputs*). Shortcut option: you can use classes from the [TensorFlow Layers](https://www.tensorflow.org/api_docs/python/tf/layers) or [TensorFlow Layers (contrib)](https://www.tensorflow.org/api_guides/python/contrib.layers) packages for this layer. For more of a challenge, only use other TensorFlow packages.\n",
    "\n",
    "**Note:** Activation, softmax, or cross entropy should **not** be applied to this."
   ]
  },
  {
   "cell_type": "code",
   "execution_count": 7,
   "metadata": {
    "collapsed": false
   },
   "outputs": [
    {
     "name": "stdout",
     "output_type": "stream",
     "text": [
      "Tests Passed\n"
     ]
    }
   ],
   "source": [
    "def output(x_tensor, num_outputs):\n",
    "    \"\"\"\n",
    "    Apply a output layer to x_tensor using weight and bias\n",
    "    : x_tensor: A 2-D tensor where the first dimension is batch size.\n",
    "    : num_outputs: The number of output that the new tensor should be.\n",
    "    : return: A 2-D tensor where the second dimension is num_outputs.\n",
    "    \"\"\"\n",
    "    # TODO: Implement Function\n",
    "    weight = tf.Variable(tf.truncated_normal([x_tensor.get_shape().as_list()[1], num_outputs], mean = 0.0, stddev = 0.05, dtype = tf.float32))\n",
    "    bias = tf.Variable(tf.zeros([num_outputs]), dtype = tf.float32)\n",
    "    output_layer = tf.add(tf.matmul(x_tensor, weight), bias)\n",
    "    return output_layer\n",
    "\n",
    "\n",
    "\"\"\"\n",
    "DON'T MODIFY ANYTHING IN THIS CELL THAT IS BELOW THIS LINE\n",
    "\"\"\"\n",
    "tests.test_output(output)"
   ]
  },
  {
   "cell_type": "markdown",
   "metadata": {},
   "source": [
    "### Create Convolutional Model\n",
    "Implement the function `conv_net` to create a convolutional neural network model. The function takes in a batch of images, `x`, and outputs logits.  Use the layers you created above to create this model:\n",
    "\n",
    "* Apply 1, 2, or 3 Convolution and Max Pool layers\n",
    "* Apply a Flatten Layer\n",
    "* Apply 1, 2, or 3 Fully Connected Layers\n",
    "* Apply an Output Layer\n",
    "* Return the output\n",
    "* Apply [TensorFlow's Dropout](https://www.tensorflow.org/api_docs/python/tf/nn/dropout) to one or more layers in the model using `keep_prob`. "
   ]
  },
  {
   "cell_type": "code",
   "execution_count": 35,
   "metadata": {
    "collapsed": false
   },
   "outputs": [
    {
     "name": "stdout",
     "output_type": "stream",
     "text": [
      "Neural Network Built!\n"
     ]
    }
   ],
   "source": [
    "def conv_net(x, keep_prob):\n",
    "    \"\"\"\n",
    "    Create a convolutional neural network model\n",
    "    : x: Placeholder tensor that holds image data.\n",
    "    : keep_prob: Placeholder tensor that hold dropout keep probability.\n",
    "    : return: Tensor that represents logits\n",
    "    \"\"\"\n",
    "    # TODO: Apply 1, 2, or 3 Convolution and Max Pool layers\n",
    "    #    Play around with different number of outputs, kernel size and stride\n",
    "    # Function Definition from Above:\n",
    "    #    conv2d_maxpool(x_tensor, conv_num_outputs, conv_ksize, conv_strides, pool_ksize, pool_strides)\n",
    "    conv1 = conv2d_maxpool(x, 64, [2, 2], [1, 1], [3, 3], [2, 2])\n",
    "    norm1 = tf.nn.lrn(conv1, 4, bias = 1.0, alpha = 0.001 / 9.0, beta = 0.75,\n",
    "                     name = 'norm1') # Source: https://www.tensorflow.org/tutorials/deep_cnn This pushed the accuracy past the 60% mark\n",
    "    conv2 = conv2d_maxpool(norm1, 128, [2, 2], [1, 1], [3, 3], [2, 2])\n",
    "    # TODO: Apply a Flatten Layer\n",
    "    # Function Definition from Above:\n",
    "    #   flatten(x_tensor)\n",
    "    flatten_conv = flatten(conv2)\n",
    "    \n",
    "\n",
    "    # TODO: Apply 1, 2, or 3 Fully Connected Layers\n",
    "    #    Play around with different number of outputs\n",
    "    # Function Definition from Above:\n",
    "    #   fully_conn(x_tensor, num_outputs)\n",
    "    fc1 = fully_conn(flatten_conv, 384)\n",
    "    fc1 = tf.nn.dropout(fc1, keep_prob)\n",
    "    fc2 = fully_conn(fc1, 192)\n",
    "    fc2 = tf.nn.dropout(fc2, keep_prob)\n",
    "    \n",
    "    # TODO: Apply an Output Layer\n",
    "    #    Set this to the number of classes\n",
    "    # Function Definition from Above:\n",
    "    #   output(x_tensor, num_outputs)\n",
    "    out = output(fc2, 10)\n",
    "    \n",
    "    # TODO: return output\n",
    "    return out\n",
    "\n",
    "\n",
    "\"\"\"\n",
    "DON'T MODIFY ANYTHING IN THIS CELL THAT IS BELOW THIS LINE\n",
    "\"\"\"\n",
    "\n",
    "##############################\n",
    "## Build the Neural Network ##\n",
    "##############################\n",
    "\n",
    "# Remove previous weights, bias, inputs, etc..\n",
    "tf.reset_default_graph()\n",
    "\n",
    "# Inputs\n",
    "x = neural_net_image_input((32, 32, 3))\n",
    "y = neural_net_label_input(10)\n",
    "keep_prob = neural_net_keep_prob_input()\n",
    "\n",
    "# Model\n",
    "logits = conv_net(x, keep_prob)\n",
    "\n",
    "# Name logits Tensor, so that is can be loaded from disk after training\n",
    "logits = tf.identity(logits, name='logits')\n",
    "\n",
    "# Loss and Optimizer\n",
    "cost = tf.reduce_mean(tf.nn.softmax_cross_entropy_with_logits(logits=logits, labels=y))\n",
    "optimizer = tf.train.AdamOptimizer().minimize(cost)\n",
    "\n",
    "# Accuracy\n",
    "correct_pred = tf.equal(tf.argmax(logits, 1), tf.argmax(y, 1))\n",
    "accuracy = tf.reduce_mean(tf.cast(correct_pred, tf.float32), name='accuracy')\n",
    "\n",
    "tests.test_conv_net(conv_net)"
   ]
  },
  {
   "cell_type": "markdown",
   "metadata": {},
   "source": [
    "## Train the Neural Network\n",
    "### Single Optimization\n",
    "Implement the function `train_neural_network` to do a single optimization.  The optimization should use `optimizer` to optimize in `session` with a `feed_dict` of the following:\n",
    "* `x` for image input\n",
    "* `y` for labels\n",
    "* `keep_prob` for keep probability for dropout\n",
    "\n",
    "This function will be called for each batch, so `tf.global_variables_initializer()` has already been called.\n",
    "\n",
    "Note: Nothing needs to be returned. This function is only optimizing the neural network."
   ]
  },
  {
   "cell_type": "code",
   "execution_count": 36,
   "metadata": {
    "collapsed": false
   },
   "outputs": [
    {
     "name": "stdout",
     "output_type": "stream",
     "text": [
      "Tests Passed\n"
     ]
    }
   ],
   "source": [
    "def train_neural_network(session, optimizer, keep_probability, feature_batch, label_batch):\n",
    "    \"\"\"\n",
    "    Optimize the session on a batch of images and labels\n",
    "    : session: Current TensorFlow session\n",
    "    : optimizer: TensorFlow optimizer function\n",
    "    : keep_probability: keep probability\n",
    "    : feature_batch: Batch of Numpy image data\n",
    "    : label_batch: Batch of Numpy label data\n",
    "    \"\"\"\n",
    "    # TODO: Implement Function\n",
    "    session.run(optimizer, feed_dict={x:feature_batch, y:label_batch, keep_prob:keep_probability})\n",
    "    pass\n",
    "\n",
    "\n",
    "\"\"\"\n",
    "DON'T MODIFY ANYTHING IN THIS CELL THAT IS BELOW THIS LINE\n",
    "\"\"\"\n",
    "tests.test_train_nn(train_neural_network)"
   ]
  },
  {
   "cell_type": "markdown",
   "metadata": {},
   "source": [
    "### Show Stats\n",
    "Implement the function `print_stats` to print loss and validation accuracy.  Use the global variables `valid_features` and `valid_labels` to calculate validation accuracy.  Use a keep probability of `1.0` to calculate the loss and validation accuracy."
   ]
  },
  {
   "cell_type": "code",
   "execution_count": 37,
   "metadata": {
    "collapsed": false
   },
   "outputs": [],
   "source": [
    "def print_stats(session, feature_batch, label_batch, cost, accuracy):\n",
    "    \"\"\"\n",
    "    Print information about loss and validation accuracy\n",
    "    : session: Current TensorFlow session\n",
    "    : feature_batch: Batch of Numpy image data\n",
    "    : label_batch: Batch of Numpy label data\n",
    "    : cost: TensorFlow cost function\n",
    "    : accuracy: TensorFlow accuracy function\n",
    "    \"\"\"\n",
    "    # TODO: Implement Function\n",
    "    loss = session.run(cost, feed_dict={\n",
    "                    x: feature_batch,\n",
    "                    y: label_batch,\n",
    "                    keep_prob: 1.0})\n",
    "    valid_acc = session.run(accuracy, feed_dict={\n",
    "                    x: valid_features[:1024],\n",
    "                    y: valid_labels[:1024],\n",
    "                    keep_prob: 1.0})\n",
    "\n",
    "    print('Loss: {:>10.4f} Validation Accuracy: {:.6f}'.format(loss, valid_acc))\n",
    "    pass"
   ]
  },
  {
   "cell_type": "markdown",
   "metadata": {},
   "source": [
    "### Hyperparameters\n",
    "Tune the following parameters:\n",
    "* Set `epochs` to the number of iterations until the network stops learning or start overfitting\n",
    "* Set `batch_size` to the highest number that your machine has memory for.  Most people set them to common sizes of memory:\n",
    " * 64\n",
    " * 128\n",
    " * 256\n",
    " * ...\n",
    "* Set `keep_probability` to the probability of keeping a node using dropout"
   ]
  },
  {
   "cell_type": "code",
   "execution_count": 38,
   "metadata": {
    "collapsed": true
   },
   "outputs": [],
   "source": [
    "# TODO: Tune Parameters\n",
    "epochs = 40\n",
    "batch_size = 256\n",
    "keep_probability = 0.6"
   ]
  },
  {
   "cell_type": "markdown",
   "metadata": {},
   "source": [
    "### Train on a Single CIFAR-10 Batch\n",
    "Instead of training the neural network on all the CIFAR-10 batches of data, let's use a single batch. This should save time while you iterate on the model to get a better accuracy.  Once the final validation accuracy is 50% or greater, run the model on all the data in the next section."
   ]
  },
  {
   "cell_type": "code",
   "execution_count": 39,
   "metadata": {
    "collapsed": false
   },
   "outputs": [
    {
     "name": "stdout",
     "output_type": "stream",
     "text": [
      "Checking the Training on a Single Batch...\n",
      "Epoch  1, CIFAR-10 Batch 1:  Loss:     2.1086 Validation Accuracy: 0.253906\n",
      "Epoch  2, CIFAR-10 Batch 1:  Loss:     1.8475 Validation Accuracy: 0.350586\n",
      "Epoch  3, CIFAR-10 Batch 1:  Loss:     1.6464 Validation Accuracy: 0.444336\n",
      "Epoch  4, CIFAR-10 Batch 1:  Loss:     1.4806 Validation Accuracy: 0.472656\n",
      "Epoch  5, CIFAR-10 Batch 1:  Loss:     1.3316 Validation Accuracy: 0.512695\n",
      "Epoch  6, CIFAR-10 Batch 1:  Loss:     1.1800 Validation Accuracy: 0.509766\n",
      "Epoch  7, CIFAR-10 Batch 1:  Loss:     1.0286 Validation Accuracy: 0.522461\n",
      "Epoch  8, CIFAR-10 Batch 1:  Loss:     0.9405 Validation Accuracy: 0.553711\n",
      "Epoch  9, CIFAR-10 Batch 1:  Loss:     1.0243 Validation Accuracy: 0.511719\n",
      "Epoch 10, CIFAR-10 Batch 1:  Loss:     0.8044 Validation Accuracy: 0.579102\n",
      "Epoch 11, CIFAR-10 Batch 1:  Loss:     0.6842 Validation Accuracy: 0.559570\n",
      "Epoch 12, CIFAR-10 Batch 1:  Loss:     0.5921 Validation Accuracy: 0.593750\n",
      "Epoch 13, CIFAR-10 Batch 1:  Loss:     0.5195 Validation Accuracy: 0.579102\n",
      "Epoch 14, CIFAR-10 Batch 1:  Loss:     0.4618 Validation Accuracy: 0.611328\n",
      "Epoch 15, CIFAR-10 Batch 1:  Loss:     0.4089 Validation Accuracy: 0.599609\n",
      "Epoch 16, CIFAR-10 Batch 1:  Loss:     0.4143 Validation Accuracy: 0.614258\n",
      "Epoch 17, CIFAR-10 Batch 1:  Loss:     0.3371 Validation Accuracy: 0.618164\n",
      "Epoch 18, CIFAR-10 Batch 1:  Loss:     0.2676 Validation Accuracy: 0.587891\n",
      "Epoch 19, CIFAR-10 Batch 1:  Loss:     0.2415 Validation Accuracy: 0.625000\n",
      "Epoch 20, CIFAR-10 Batch 1:  Loss:     0.2095 Validation Accuracy: 0.645508\n",
      "Epoch 21, CIFAR-10 Batch 1:  Loss:     0.1862 Validation Accuracy: 0.634766\n",
      "Epoch 22, CIFAR-10 Batch 1:  Loss:     0.1748 Validation Accuracy: 0.633789\n",
      "Epoch 23, CIFAR-10 Batch 1:  Loss:     0.1634 Validation Accuracy: 0.658203\n",
      "Epoch 24, CIFAR-10 Batch 1:  Loss:     0.1339 Validation Accuracy: 0.649414\n",
      "Epoch 25, CIFAR-10 Batch 1:  Loss:     0.1336 Validation Accuracy: 0.649414\n",
      "Epoch 26, CIFAR-10 Batch 1:  Loss:     0.1369 Validation Accuracy: 0.643555\n",
      "Epoch 27, CIFAR-10 Batch 1:  Loss:     0.1156 Validation Accuracy: 0.621094\n",
      "Epoch 28, CIFAR-10 Batch 1:  Loss:     0.1190 Validation Accuracy: 0.614258\n",
      "Epoch 29, CIFAR-10 Batch 1:  Loss:     0.0875 Validation Accuracy: 0.627930\n",
      "Epoch 30, CIFAR-10 Batch 1:  Loss:     0.0888 Validation Accuracy: 0.618164\n",
      "Epoch 31, CIFAR-10 Batch 1:  Loss:     0.0824 Validation Accuracy: 0.621094\n",
      "Epoch 32, CIFAR-10 Batch 1:  Loss:     0.0717 Validation Accuracy: 0.603516\n",
      "Epoch 33, CIFAR-10 Batch 1:  Loss:     0.0563 Validation Accuracy: 0.661133\n",
      "Epoch 34, CIFAR-10 Batch 1:  Loss:     0.0435 Validation Accuracy: 0.656250\n",
      "Epoch 35, CIFAR-10 Batch 1:  Loss:     0.0393 Validation Accuracy: 0.650391\n",
      "Epoch 36, CIFAR-10 Batch 1:  Loss:     0.0341 Validation Accuracy: 0.651367\n",
      "Epoch 37, CIFAR-10 Batch 1:  Loss:     0.0309 Validation Accuracy: 0.661133\n",
      "Epoch 38, CIFAR-10 Batch 1:  Loss:     0.0282 Validation Accuracy: 0.661133\n",
      "Epoch 39, CIFAR-10 Batch 1:  Loss:     0.0207 Validation Accuracy: 0.654297\n",
      "Epoch 40, CIFAR-10 Batch 1:  Loss:     0.0210 Validation Accuracy: 0.644531\n"
     ]
    }
   ],
   "source": [
    "\"\"\"\n",
    "DON'T MODIFY ANYTHING IN THIS CELL\n",
    "\"\"\"\n",
    "print('Checking the Training on a Single Batch...')\n",
    "with tf.Session() as sess:\n",
    "    # Initializing the variables\n",
    "    sess.run(tf.global_variables_initializer())\n",
    "    \n",
    "    # Training cycle\n",
    "    for epoch in range(epochs):\n",
    "        batch_i = 1\n",
    "        for batch_features, batch_labels in helper.load_preprocess_training_batch(batch_i, batch_size):\n",
    "            train_neural_network(sess, optimizer, keep_probability, batch_features, batch_labels)\n",
    "        print('Epoch {:>2}, CIFAR-10 Batch {}:  '.format(epoch + 1, batch_i), end='')\n",
    "        print_stats(sess, batch_features, batch_labels, cost, accuracy)"
   ]
  },
  {
   "cell_type": "markdown",
   "metadata": {},
   "source": [
    "### Fully Train the Model\n",
    "Now that you got a good accuracy with a single CIFAR-10 batch, try it with all five batches."
   ]
  },
  {
   "cell_type": "code",
   "execution_count": 40,
   "metadata": {
    "collapsed": false
   },
   "outputs": [
    {
     "name": "stdout",
     "output_type": "stream",
     "text": [
      "Training...\n",
      "Epoch  1, CIFAR-10 Batch 1:  Loss:     2.1386 Validation Accuracy: 0.285156\n",
      "Epoch  1, CIFAR-10 Batch 2:  Loss:     1.7583 Validation Accuracy: 0.376953\n",
      "Epoch  1, CIFAR-10 Batch 3:  Loss:     1.4238 Validation Accuracy: 0.407227\n",
      "Epoch  1, CIFAR-10 Batch 4:  Loss:     1.5100 Validation Accuracy: 0.450195\n",
      "Epoch  1, CIFAR-10 Batch 5:  Loss:     1.3788 Validation Accuracy: 0.480469\n",
      "Epoch  2, CIFAR-10 Batch 1:  Loss:     1.4953 Validation Accuracy: 0.489258\n",
      "Epoch  2, CIFAR-10 Batch 2:  Loss:     1.2004 Validation Accuracy: 0.511719\n",
      "Epoch  2, CIFAR-10 Batch 3:  Loss:     1.0960 Validation Accuracy: 0.492188\n",
      "Epoch  2, CIFAR-10 Batch 4:  Loss:     1.1786 Validation Accuracy: 0.545898\n",
      "Epoch  2, CIFAR-10 Batch 5:  Loss:     1.1868 Validation Accuracy: 0.535156\n",
      "Epoch  3, CIFAR-10 Batch 1:  Loss:     1.1662 Validation Accuracy: 0.575195\n",
      "Epoch  3, CIFAR-10 Batch 2:  Loss:     1.0052 Validation Accuracy: 0.571289\n",
      "Epoch  3, CIFAR-10 Batch 3:  Loss:     0.9406 Validation Accuracy: 0.526367\n",
      "Epoch  3, CIFAR-10 Batch 4:  Loss:     0.9469 Validation Accuracy: 0.589844\n",
      "Epoch  3, CIFAR-10 Batch 5:  Loss:     1.0340 Validation Accuracy: 0.594727\n",
      "Epoch  4, CIFAR-10 Batch 1:  Loss:     0.9689 Validation Accuracy: 0.611328\n",
      "Epoch  4, CIFAR-10 Batch 2:  Loss:     0.8999 Validation Accuracy: 0.590820\n",
      "Epoch  4, CIFAR-10 Batch 3:  Loss:     0.7295 Validation Accuracy: 0.606445\n",
      "Epoch  4, CIFAR-10 Batch 4:  Loss:     0.7247 Validation Accuracy: 0.623047\n",
      "Epoch  4, CIFAR-10 Batch 5:  Loss:     0.8466 Validation Accuracy: 0.627930\n",
      "Epoch  5, CIFAR-10 Batch 1:  Loss:     0.7711 Validation Accuracy: 0.632812\n",
      "Epoch  5, CIFAR-10 Batch 2:  Loss:     0.8304 Validation Accuracy: 0.625000\n",
      "Epoch  5, CIFAR-10 Batch 3:  Loss:     0.5960 Validation Accuracy: 0.659180\n",
      "Epoch  5, CIFAR-10 Batch 4:  Loss:     0.6263 Validation Accuracy: 0.656250\n",
      "Epoch  5, CIFAR-10 Batch 5:  Loss:     0.7270 Validation Accuracy: 0.625000\n",
      "Epoch  6, CIFAR-10 Batch 1:  Loss:     0.6652 Validation Accuracy: 0.679688\n",
      "Epoch  6, CIFAR-10 Batch 2:  Loss:     0.6340 Validation Accuracy: 0.660156\n",
      "Epoch  6, CIFAR-10 Batch 3:  Loss:     0.4769 Validation Accuracy: 0.662109\n",
      "Epoch  6, CIFAR-10 Batch 4:  Loss:     0.5675 Validation Accuracy: 0.667969\n",
      "Epoch  6, CIFAR-10 Batch 5:  Loss:     0.5918 Validation Accuracy: 0.642578\n",
      "Epoch  7, CIFAR-10 Batch 1:  Loss:     0.5592 Validation Accuracy: 0.695312\n",
      "Epoch  7, CIFAR-10 Batch 2:  Loss:     0.4645 Validation Accuracy: 0.668945\n",
      "Epoch  7, CIFAR-10 Batch 3:  Loss:     0.3876 Validation Accuracy: 0.693359\n",
      "Epoch  7, CIFAR-10 Batch 4:  Loss:     0.4838 Validation Accuracy: 0.693359\n",
      "Epoch  7, CIFAR-10 Batch 5:  Loss:     0.5092 Validation Accuracy: 0.657227\n",
      "Epoch  8, CIFAR-10 Batch 1:  Loss:     0.4901 Validation Accuracy: 0.695312\n",
      "Epoch  8, CIFAR-10 Batch 2:  Loss:     0.3889 Validation Accuracy: 0.699219\n",
      "Epoch  8, CIFAR-10 Batch 3:  Loss:     0.3121 Validation Accuracy: 0.680664\n",
      "Epoch  8, CIFAR-10 Batch 4:  Loss:     0.3912 Validation Accuracy: 0.708984\n",
      "Epoch  8, CIFAR-10 Batch 5:  Loss:     0.3803 Validation Accuracy: 0.693359\n",
      "Epoch  9, CIFAR-10 Batch 1:  Loss:     0.4153 Validation Accuracy: 0.708984\n",
      "Epoch  9, CIFAR-10 Batch 2:  Loss:     0.3319 Validation Accuracy: 0.710938\n",
      "Epoch  9, CIFAR-10 Batch 3:  Loss:     0.2560 Validation Accuracy: 0.710938\n",
      "Epoch  9, CIFAR-10 Batch 4:  Loss:     0.3231 Validation Accuracy: 0.709961\n",
      "Epoch  9, CIFAR-10 Batch 5:  Loss:     0.2826 Validation Accuracy: 0.713867\n",
      "Epoch 10, CIFAR-10 Batch 1:  Loss:     0.4012 Validation Accuracy: 0.723633\n",
      "Epoch 10, CIFAR-10 Batch 2:  Loss:     0.2428 Validation Accuracy: 0.716797\n",
      "Epoch 10, CIFAR-10 Batch 3:  Loss:     0.2216 Validation Accuracy: 0.728516\n",
      "Epoch 10, CIFAR-10 Batch 4:  Loss:     0.3015 Validation Accuracy: 0.705078\n",
      "Epoch 10, CIFAR-10 Batch 5:  Loss:     0.2343 Validation Accuracy: 0.714844\n",
      "Epoch 11, CIFAR-10 Batch 1:  Loss:     0.2858 Validation Accuracy: 0.731445\n",
      "Epoch 11, CIFAR-10 Batch 2:  Loss:     0.2073 Validation Accuracy: 0.717773\n",
      "Epoch 11, CIFAR-10 Batch 3:  Loss:     0.1954 Validation Accuracy: 0.746094\n",
      "Epoch 11, CIFAR-10 Batch 4:  Loss:     0.2284 Validation Accuracy: 0.737305\n",
      "Epoch 11, CIFAR-10 Batch 5:  Loss:     0.2218 Validation Accuracy: 0.720703\n",
      "Epoch 12, CIFAR-10 Batch 1:  Loss:     0.2517 Validation Accuracy: 0.742188\n",
      "Epoch 12, CIFAR-10 Batch 2:  Loss:     0.1857 Validation Accuracy: 0.734375\n",
      "Epoch 12, CIFAR-10 Batch 3:  Loss:     0.1713 Validation Accuracy: 0.743164\n",
      "Epoch 12, CIFAR-10 Batch 4:  Loss:     0.2115 Validation Accuracy: 0.737305\n",
      "Epoch 12, CIFAR-10 Batch 5:  Loss:     0.1814 Validation Accuracy: 0.730469\n",
      "Epoch 13, CIFAR-10 Batch 1:  Loss:     0.2068 Validation Accuracy: 0.750000\n",
      "Epoch 13, CIFAR-10 Batch 2:  Loss:     0.1825 Validation Accuracy: 0.740234\n",
      "Epoch 13, CIFAR-10 Batch 3:  Loss:     0.1660 Validation Accuracy: 0.745117\n",
      "Epoch 13, CIFAR-10 Batch 4:  Loss:     0.1843 Validation Accuracy: 0.750000\n",
      "Epoch 13, CIFAR-10 Batch 5:  Loss:     0.1338 Validation Accuracy: 0.739258\n",
      "Epoch 14, CIFAR-10 Batch 1:  Loss:     0.1918 Validation Accuracy: 0.738281\n",
      "Epoch 14, CIFAR-10 Batch 2:  Loss:     0.1622 Validation Accuracy: 0.741211\n",
      "Epoch 14, CIFAR-10 Batch 3:  Loss:     0.1222 Validation Accuracy: 0.742188\n",
      "Epoch 14, CIFAR-10 Batch 4:  Loss:     0.1556 Validation Accuracy: 0.750000\n",
      "Epoch 14, CIFAR-10 Batch 5:  Loss:     0.1062 Validation Accuracy: 0.743164\n",
      "Epoch 15, CIFAR-10 Batch 1:  Loss:     0.1453 Validation Accuracy: 0.758789\n",
      "Epoch 15, CIFAR-10 Batch 2:  Loss:     0.1155 Validation Accuracy: 0.729492\n",
      "Epoch 15, CIFAR-10 Batch 3:  Loss:     0.0975 Validation Accuracy: 0.740234\n",
      "Epoch 15, CIFAR-10 Batch 4:  Loss:     0.1652 Validation Accuracy: 0.743164\n",
      "Epoch 15, CIFAR-10 Batch 5:  Loss:     0.0824 Validation Accuracy: 0.748047\n",
      "Epoch 16, CIFAR-10 Batch 1:  Loss:     0.1279 Validation Accuracy: 0.766602\n",
      "Epoch 16, CIFAR-10 Batch 2:  Loss:     0.1096 Validation Accuracy: 0.735352\n",
      "Epoch 16, CIFAR-10 Batch 3:  Loss:     0.0982 Validation Accuracy: 0.731445\n",
      "Epoch 16, CIFAR-10 Batch 4:  Loss:     0.1252 Validation Accuracy: 0.766602\n",
      "Epoch 16, CIFAR-10 Batch 5:  Loss:     0.0784 Validation Accuracy: 0.742188\n",
      "Epoch 17, CIFAR-10 Batch 1:  Loss:     0.1296 Validation Accuracy: 0.766602\n",
      "Epoch 17, CIFAR-10 Batch 2:  Loss:     0.0910 Validation Accuracy: 0.737305\n",
      "Epoch 17, CIFAR-10 Batch 3:  Loss:     0.0813 Validation Accuracy: 0.733398\n",
      "Epoch 17, CIFAR-10 Batch 4:  Loss:     0.1075 Validation Accuracy: 0.746094\n",
      "Epoch 17, CIFAR-10 Batch 5:  Loss:     0.0591 Validation Accuracy: 0.741211\n",
      "Epoch 18, CIFAR-10 Batch 1:  Loss:     0.1104 Validation Accuracy: 0.761719\n",
      "Epoch 18, CIFAR-10 Batch 2:  Loss:     0.0749 Validation Accuracy: 0.752930\n",
      "Epoch 18, CIFAR-10 Batch 3:  Loss:     0.0734 Validation Accuracy: 0.744141\n",
      "Epoch 18, CIFAR-10 Batch 4:  Loss:     0.0981 Validation Accuracy: 0.747070\n",
      "Epoch 18, CIFAR-10 Batch 5:  Loss:     0.0501 Validation Accuracy: 0.746094\n",
      "Epoch 19, CIFAR-10 Batch 1:  Loss:     0.0982 Validation Accuracy: 0.756836\n",
      "Epoch 19, CIFAR-10 Batch 2:  Loss:     0.0769 Validation Accuracy: 0.750000\n",
      "Epoch 19, CIFAR-10 Batch 3:  Loss:     0.0499 Validation Accuracy: 0.729492\n",
      "Epoch 19, CIFAR-10 Batch 4:  Loss:     0.0729 Validation Accuracy: 0.762695\n",
      "Epoch 19, CIFAR-10 Batch 5:  Loss:     0.0455 Validation Accuracy: 0.748047\n",
      "Epoch 20, CIFAR-10 Batch 1:  Loss:     0.0844 Validation Accuracy: 0.747070\n",
      "Epoch 20, CIFAR-10 Batch 2:  Loss:     0.0688 Validation Accuracy: 0.749023\n",
      "Epoch 20, CIFAR-10 Batch 3:  Loss:     0.0403 Validation Accuracy: 0.763672\n",
      "Epoch 20, CIFAR-10 Batch 4:  Loss:     0.0665 Validation Accuracy: 0.760742\n",
      "Epoch 20, CIFAR-10 Batch 5:  Loss:     0.0479 Validation Accuracy: 0.752930\n",
      "Epoch 21, CIFAR-10 Batch 1:  Loss:     0.0696 Validation Accuracy: 0.749023\n",
      "Epoch 21, CIFAR-10 Batch 2:  Loss:     0.0534 Validation Accuracy: 0.742188\n",
      "Epoch 21, CIFAR-10 Batch 3:  Loss:     0.0454 Validation Accuracy: 0.748047\n",
      "Epoch 21, CIFAR-10 Batch 4:  Loss:     0.0587 Validation Accuracy: 0.760742\n",
      "Epoch 21, CIFAR-10 Batch 5:  Loss:     0.0451 Validation Accuracy: 0.735352\n",
      "Epoch 22, CIFAR-10 Batch 1:  Loss:     0.0554 Validation Accuracy: 0.739258\n",
      "Epoch 22, CIFAR-10 Batch 2:  Loss:     0.0360 Validation Accuracy: 0.754883\n",
      "Epoch 22, CIFAR-10 Batch 3:  Loss:     0.0317 Validation Accuracy: 0.748047\n",
      "Epoch 22, CIFAR-10 Batch 4:  Loss:     0.0634 Validation Accuracy: 0.776367\n",
      "Epoch 22, CIFAR-10 Batch 5:  Loss:     0.0319 Validation Accuracy: 0.733398\n",
      "Epoch 23, CIFAR-10 Batch 1:  Loss:     0.0602 Validation Accuracy: 0.750977\n",
      "Epoch 23, CIFAR-10 Batch 2:  Loss:     0.0382 Validation Accuracy: 0.741211\n",
      "Epoch 23, CIFAR-10 Batch 3:  Loss:     0.0335 Validation Accuracy: 0.719727\n",
      "Epoch 23, CIFAR-10 Batch 4:  Loss:     0.0555 Validation Accuracy: 0.763672\n",
      "Epoch 23, CIFAR-10 Batch 5:  Loss:     0.0266 Validation Accuracy: 0.743164\n",
      "Epoch 24, CIFAR-10 Batch 1:  Loss:     0.0400 Validation Accuracy: 0.760742\n",
      "Epoch 24, CIFAR-10 Batch 2:  Loss:     0.0359 Validation Accuracy: 0.735352\n",
      "Epoch 24, CIFAR-10 Batch 3:  Loss:     0.0225 Validation Accuracy: 0.736328\n",
      "Epoch 24, CIFAR-10 Batch 4:  Loss:     0.0441 Validation Accuracy: 0.755859\n",
      "Epoch 24, CIFAR-10 Batch 5:  Loss:     0.0278 Validation Accuracy: 0.741211\n",
      "Epoch 25, CIFAR-10 Batch 1:  Loss:     0.0414 Validation Accuracy: 0.750000\n",
      "Epoch 25, CIFAR-10 Batch 2:  Loss:     0.0773 Validation Accuracy: 0.725586\n",
      "Epoch 25, CIFAR-10 Batch 3:  Loss:     0.0242 Validation Accuracy: 0.756836\n",
      "Epoch 25, CIFAR-10 Batch 4:  Loss:     0.0275 Validation Accuracy: 0.759766\n",
      "Epoch 25, CIFAR-10 Batch 5:  Loss:     0.0267 Validation Accuracy: 0.753906\n",
      "Epoch 26, CIFAR-10 Batch 1:  Loss:     0.0295 Validation Accuracy: 0.761719\n",
      "Epoch 26, CIFAR-10 Batch 2:  Loss:     0.0374 Validation Accuracy: 0.744141\n",
      "Epoch 26, CIFAR-10 Batch 3:  Loss:     0.0216 Validation Accuracy: 0.764648\n",
      "Epoch 26, CIFAR-10 Batch 4:  Loss:     0.0218 Validation Accuracy: 0.763672\n",
      "Epoch 26, CIFAR-10 Batch 5:  Loss:     0.0211 Validation Accuracy: 0.737305\n",
      "Epoch 27, CIFAR-10 Batch 1:  Loss:     0.0438 Validation Accuracy: 0.758789\n",
      "Epoch 27, CIFAR-10 Batch 2:  Loss:     0.0230 Validation Accuracy: 0.750977\n",
      "Epoch 27, CIFAR-10 Batch 3:  Loss:     0.0210 Validation Accuracy: 0.761719\n",
      "Epoch 27, CIFAR-10 Batch 4:  Loss:     0.0297 Validation Accuracy: 0.766602\n",
      "Epoch 27, CIFAR-10 Batch 5:  Loss:     0.0164 Validation Accuracy: 0.745117\n",
      "Epoch 28, CIFAR-10 Batch 1:  Loss:     0.0243 Validation Accuracy: 0.764648\n",
      "Epoch 28, CIFAR-10 Batch 2:  Loss:     0.0273 Validation Accuracy: 0.745117\n",
      "Epoch 28, CIFAR-10 Batch 3:  Loss:     0.0186 Validation Accuracy: 0.749023\n",
      "Epoch 28, CIFAR-10 Batch 4:  Loss:     0.0266 Validation Accuracy: 0.753906\n",
      "Epoch 28, CIFAR-10 Batch 5:  Loss:     0.0123 Validation Accuracy: 0.759766\n",
      "Epoch 29, CIFAR-10 Batch 1:  Loss:     0.0195 Validation Accuracy: 0.760742\n",
      "Epoch 29, CIFAR-10 Batch 2:  Loss:     0.0208 Validation Accuracy: 0.732422\n",
      "Epoch 29, CIFAR-10 Batch 3:  Loss:     0.0208 Validation Accuracy: 0.758789\n",
      "Epoch 29, CIFAR-10 Batch 4:  Loss:     0.0251 Validation Accuracy: 0.752930\n",
      "Epoch 29, CIFAR-10 Batch 5:  Loss:     0.0139 Validation Accuracy: 0.746094\n",
      "Epoch 30, CIFAR-10 Batch 1:  Loss:     0.0156 Validation Accuracy: 0.759766\n",
      "Epoch 30, CIFAR-10 Batch 2:  Loss:     0.0124 Validation Accuracy: 0.732422\n",
      "Epoch 30, CIFAR-10 Batch 3:  Loss:     0.0170 Validation Accuracy: 0.769531\n",
      "Epoch 30, CIFAR-10 Batch 4:  Loss:     0.0217 Validation Accuracy: 0.745117\n",
      "Epoch 30, CIFAR-10 Batch 5:  Loss:     0.0113 Validation Accuracy: 0.751953\n",
      "Epoch 31, CIFAR-10 Batch 1:  Loss:     0.0102 Validation Accuracy: 0.750000\n",
      "Epoch 31, CIFAR-10 Batch 2:  Loss:     0.0122 Validation Accuracy: 0.748047\n",
      "Epoch 31, CIFAR-10 Batch 3:  Loss:     0.0132 Validation Accuracy: 0.747070\n",
      "Epoch 31, CIFAR-10 Batch 4:  Loss:     0.0151 Validation Accuracy: 0.750000\n",
      "Epoch 31, CIFAR-10 Batch 5:  Loss:     0.0097 Validation Accuracy: 0.756836\n",
      "Epoch 32, CIFAR-10 Batch 1:  Loss:     0.0099 Validation Accuracy: 0.759766\n",
      "Epoch 32, CIFAR-10 Batch 2:  Loss:     0.0136 Validation Accuracy: 0.747070\n",
      "Epoch 32, CIFAR-10 Batch 3:  Loss:     0.0114 Validation Accuracy: 0.760742\n",
      "Epoch 32, CIFAR-10 Batch 4:  Loss:     0.0153 Validation Accuracy: 0.749023\n",
      "Epoch 32, CIFAR-10 Batch 5:  Loss:     0.0140 Validation Accuracy: 0.747070\n",
      "Epoch 33, CIFAR-10 Batch 1:  Loss:     0.0115 Validation Accuracy: 0.751953\n",
      "Epoch 33, CIFAR-10 Batch 2:  Loss:     0.0085 Validation Accuracy: 0.749023\n",
      "Epoch 33, CIFAR-10 Batch 3:  Loss:     0.0112 Validation Accuracy: 0.747070\n",
      "Epoch 33, CIFAR-10 Batch 4:  Loss:     0.0119 Validation Accuracy: 0.733398\n",
      "Epoch 33, CIFAR-10 Batch 5:  Loss:     0.0099 Validation Accuracy: 0.739258\n",
      "Epoch 34, CIFAR-10 Batch 1:  Loss:     0.0088 Validation Accuracy: 0.740234\n",
      "Epoch 34, CIFAR-10 Batch 2:  Loss:     0.0107 Validation Accuracy: 0.742188\n",
      "Epoch 34, CIFAR-10 Batch 3:  Loss:     0.0089 Validation Accuracy: 0.751953\n",
      "Epoch 34, CIFAR-10 Batch 4:  Loss:     0.0128 Validation Accuracy: 0.737305\n",
      "Epoch 34, CIFAR-10 Batch 5:  Loss:     0.0059 Validation Accuracy: 0.752930\n",
      "Epoch 35, CIFAR-10 Batch 1:  Loss:     0.0100 Validation Accuracy: 0.747070\n",
      "Epoch 35, CIFAR-10 Batch 2:  Loss:     0.0086 Validation Accuracy: 0.754883\n",
      "Epoch 35, CIFAR-10 Batch 3:  Loss:     0.0075 Validation Accuracy: 0.755859\n",
      "Epoch 35, CIFAR-10 Batch 4:  Loss:     0.0063 Validation Accuracy: 0.755859\n",
      "Epoch 35, CIFAR-10 Batch 5:  Loss:     0.0038 Validation Accuracy: 0.750000\n",
      "Epoch 36, CIFAR-10 Batch 1:  Loss:     0.0067 Validation Accuracy: 0.733398\n",
      "Epoch 36, CIFAR-10 Batch 2:  Loss:     0.0072 Validation Accuracy: 0.750977\n",
      "Epoch 36, CIFAR-10 Batch 3:  Loss:     0.0067 Validation Accuracy: 0.753906\n",
      "Epoch 36, CIFAR-10 Batch 4:  Loss:     0.0052 Validation Accuracy: 0.752930\n",
      "Epoch 36, CIFAR-10 Batch 5:  Loss:     0.0042 Validation Accuracy: 0.748047\n",
      "Epoch 37, CIFAR-10 Batch 1:  Loss:     0.0099 Validation Accuracy: 0.736328\n",
      "Epoch 37, CIFAR-10 Batch 2:  Loss:     0.0040 Validation Accuracy: 0.742188\n",
      "Epoch 37, CIFAR-10 Batch 3:  Loss:     0.0036 Validation Accuracy: 0.752930\n",
      "Epoch 37, CIFAR-10 Batch 4:  Loss:     0.0030 Validation Accuracy: 0.737305\n",
      "Epoch 37, CIFAR-10 Batch 5:  Loss:     0.0044 Validation Accuracy: 0.760742\n",
      "Epoch 38, CIFAR-10 Batch 1:  Loss:     0.0065 Validation Accuracy: 0.756836\n",
      "Epoch 38, CIFAR-10 Batch 2:  Loss:     0.0053 Validation Accuracy: 0.745117\n",
      "Epoch 38, CIFAR-10 Batch 3:  Loss:     0.0052 Validation Accuracy: 0.735352\n",
      "Epoch 38, CIFAR-10 Batch 4:  Loss:     0.0065 Validation Accuracy: 0.729492\n",
      "Epoch 38, CIFAR-10 Batch 5:  Loss:     0.0056 Validation Accuracy: 0.739258\n",
      "Epoch 39, CIFAR-10 Batch 1:  Loss:     0.0027 Validation Accuracy: 0.756836\n",
      "Epoch 39, CIFAR-10 Batch 2:  Loss:     0.0036 Validation Accuracy: 0.745117\n",
      "Epoch 39, CIFAR-10 Batch 3:  Loss:     0.0032 Validation Accuracy: 0.726562\n",
      "Epoch 39, CIFAR-10 Batch 4:  Loss:     0.0062 Validation Accuracy: 0.716797\n",
      "Epoch 39, CIFAR-10 Batch 5:  Loss:     0.0033 Validation Accuracy: 0.737305\n",
      "Epoch 40, CIFAR-10 Batch 1:  Loss:     0.0065 Validation Accuracy: 0.740234\n",
      "Epoch 40, CIFAR-10 Batch 2:  Loss:     0.0041 Validation Accuracy: 0.749023\n",
      "Epoch 40, CIFAR-10 Batch 3:  Loss:     0.0031 Validation Accuracy: 0.750977\n",
      "Epoch 40, CIFAR-10 Batch 4:  Loss:     0.0042 Validation Accuracy: 0.734375\n",
      "Epoch 40, CIFAR-10 Batch 5:  Loss:     0.0028 Validation Accuracy: 0.744141\n"
     ]
    }
   ],
   "source": [
    "\"\"\"\n",
    "DON'T MODIFY ANYTHING IN THIS CELL\n",
    "\"\"\"\n",
    "save_model_path = './image_classification'\n",
    "\n",
    "print('Training...')\n",
    "with tf.Session() as sess:\n",
    "    # Initializing the variables\n",
    "    sess.run(tf.global_variables_initializer())\n",
    "    \n",
    "    # Training cycle\n",
    "    for epoch in range(epochs):\n",
    "        # Loop over all batches\n",
    "        n_batches = 5\n",
    "        for batch_i in range(1, n_batches + 1):\n",
    "            for batch_features, batch_labels in helper.load_preprocess_training_batch(batch_i, batch_size):\n",
    "                train_neural_network(sess, optimizer, keep_probability, batch_features, batch_labels)\n",
    "            print('Epoch {:>2}, CIFAR-10 Batch {}:  '.format(epoch + 1, batch_i), end='')\n",
    "            print_stats(sess, batch_features, batch_labels, cost, accuracy)\n",
    "            \n",
    "    # Save Model\n",
    "    saver = tf.train.Saver()\n",
    "    save_path = saver.save(sess, save_model_path)"
   ]
  },
  {
   "cell_type": "markdown",
   "metadata": {},
   "source": [
    "# Checkpoint\n",
    "The model has been saved to disk.\n",
    "## Test Model\n",
    "Test your model against the test dataset.  This will be your final accuracy. You should have an accuracy greater than 50%. If you don't, keep tweaking the model architecture and parameters."
   ]
  },
  {
   "cell_type": "code",
   "execution_count": 41,
   "metadata": {
    "collapsed": false
   },
   "outputs": [
    {
     "name": "stdout",
     "output_type": "stream",
     "text": [
      "Testing Accuracy: 0.727734375\n",
      "\n"
     ]
    },
    {
     "data": {
      "image/png": "[encoded data removed]",
      "text/plain": [
       "<matplotlib.figure.Figure at 0x15c573f9c18>"
      ]
     },
     "metadata": {
      "image/png": {
       "height": 319,
       "width": 355
      }
     },
     "output_type": "display_data"
    }
   ],
   "source": [
    "\"\"\"\n",
    "DON'T MODIFY ANYTHING IN THIS CELL\n",
    "\"\"\"\n",
    "%matplotlib inline\n",
    "%config InlineBackend.figure_format = 'retina'\n",
    "\n",
    "import tensorflow as tf\n",
    "import pickle\n",
    "import helper\n",
    "import random\n",
    "\n",
    "# Set batch size if not already set\n",
    "try:\n",
    "    if batch_size:\n",
    "        pass\n",
    "except NameError:\n",
    "    batch_size = 64\n",
    "\n",
    "save_model_path = './image_classification'\n",
    "n_samples = 4\n",
    "top_n_predictions = 3\n",
    "\n",
    "def test_model():\n",
    "    \"\"\"\n",
    "    Test the saved model against the test dataset\n",
    "    \"\"\"\n",
    "\n",
    "    test_features, test_labels = pickle.load(open('preprocess_training.p', mode='rb'))\n",
    "    loaded_graph = tf.Graph()\n",
    "\n",
    "    with tf.Session(graph=loaded_graph) as sess:\n",
    "        # Load model\n",
    "        loader = tf.train.import_meta_graph(save_model_path + '.meta')\n",
    "        loader.restore(sess, save_model_path)\n",
    "\n",
    "        # Get Tensors from loaded model\n",
    "        loaded_x = loaded_graph.get_tensor_by_name('x:0')\n",
    "        loaded_y = loaded_graph.get_tensor_by_name('y:0')\n",
    "        loaded_keep_prob = loaded_graph.get_tensor_by_name('keep_prob:0')\n",
    "        loaded_logits = loaded_graph.get_tensor_by_name('logits:0')\n",
    "        loaded_acc = loaded_graph.get_tensor_by_name('accuracy:0')\n",
    "        \n",
    "        # Get accuracy in batches for memory limitations\n",
    "        test_batch_acc_total = 0\n",
    "        test_batch_count = 0\n",
    "        \n",
    "        for train_feature_batch, train_label_batch in helper.batch_features_labels(test_features, test_labels, batch_size):\n",
    "            test_batch_acc_total += sess.run(\n",
    "                loaded_acc,\n",
    "                feed_dict={loaded_x: train_feature_batch, loaded_y: train_label_batch, loaded_keep_prob: 1.0})\n",
    "            test_batch_count += 1\n",
    "\n",
    "        print('Testing Accuracy: {}\\n'.format(test_batch_acc_total/test_batch_count))\n",
    "\n",
    "        # Print Random Samples\n",
    "        random_test_features, random_test_labels = tuple(zip(*random.sample(list(zip(test_features, test_labels)), n_samples)))\n",
    "        random_test_predictions = sess.run(\n",
    "            tf.nn.top_k(tf.nn.softmax(loaded_logits), top_n_predictions),\n",
    "            feed_dict={loaded_x: random_test_features, loaded_y: random_test_labels, loaded_keep_prob: 1.0})\n",
    "        helper.display_image_predictions(random_test_features, random_test_labels, random_test_predictions)\n",
    "\n",
    "\n",
    "test_model()"
   ]
  },
  {
   "cell_type": "markdown",
   "metadata": {},
   "source": [
    "## Why 50-70% Accuracy?\n",
    "You might be wondering why you can't get an accuracy any higher. First things first, 50% isn't bad for a simple CNN.  Pure guessing would get you 10% accuracy. However, you might notice people are getting scores [well above 70%](http://rodrigob.github.io/are_we_there_yet/build/classification_datasets_results.html#43494641522d3130).  That's because we haven't taught you all there is to know about neural networks. We still need to cover a few more techniques.\n",
    "## Submitting This Project\n",
    "When submitting this project, make sure to run all the cells before saving the notebook.  Save the notebook file as \"dlnd_image_classification.ipynb\" and save it as a HTML file under \"File\" -> \"Download as\".  Include the \"helper.py\" and \"problem_unittests.py\" files in your submission."
   ]
  },
  {
   "cell_type": "code",
   "execution_count": null,
   "metadata": {
    "collapsed": true
   },
   "outputs": [],
   "source": []
  }
 ],
 "metadata": {
  "kernelspec": {
   "display_name": "Python [default]",
   "language": "python",
   "name": "python3"
  },
  "language_info": {
   "codemirror_mode": {
    "name": "ipython",
    "version": 3
   },
   "file_extension": ".py",
   "mimetype": "text/x-python",
   "name": "python",
   "nbconvert_exporter": "python",
   "pygments_lexer": "ipython3",
   "version": "3.5.2"
  }
 },
 "nbformat": 4,
 "nbformat_minor": 0
}
